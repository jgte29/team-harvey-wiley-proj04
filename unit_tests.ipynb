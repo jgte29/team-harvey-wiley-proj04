{
 "cells": [
  {
   "cell_type": "markdown",
   "id": "7123889d-58a4-4fd5-b4a5-f64abc0293a6",
   "metadata": {},
   "source": [
    "# Team Harvey Wiley Unit Tests Notebook\n",
    "In this notebook, we perform the unit tests for select functions in our analysis.\n",
    "\n",
    "**Usage Note - Updating Notebook**:\n",
    "- If you make changes locally to your version of the notebook, you will need to manually update the notebook via the following steps\n",
    "    1. Uncomment the code in the cell below and run it.\n",
    "    2. Restart the notebook's kernel.\n",
    "    3. Refresh the page. <br>\n",
    "    **Warning** - Make sure that the aforementioned code is commented once you successfully updated the notebook."
   ]
  },
  {
   "cell_type": "code",
   "execution_count": 2,
   "id": "00d5d818-cf3d-45dc-8a26-da626895a5c4",
   "metadata": {
    "tags": []
   },
   "outputs": [],
   "source": [
    "### Uncomment this code to manually update the notebook\n",
    "# !git reset --hard origin/main"
   ]
  },
  {
   "cell_type": "markdown",
   "id": "bd979e5a-967e-4f9f-9da3-f50bd9644526",
   "metadata": {},
   "source": [
    "### Nutritional Adequacy Notebook"
   ]
  },
  {
   "cell_type": "code",
   "execution_count": 4,
   "id": "7dc075b3-bc16-465d-970b-a8b73fccd116",
   "metadata": {
    "tags": []
   },
   "outputs": [],
   "source": [
    "%run nutritional_adequacy.ipynb"
   ]
  },
  {
   "cell_type": "code",
   "execution_count": 23,
   "id": "9e63943e-ab2b-43da-95b6-441082941d00",
   "metadata": {
    "tags": []
   },
   "outputs": [],
   "source": [
    "# Dummy data for testing\n",
    "expenditures_data = {\n",
    "    'm': ['North', 'South', 'Unknown'],\n",
    "    'Household': ['A', 'B', 'C'],\n",
    "    'Apples': [2, 3, 1],\n",
    "    'Oranges': [1, 2, 0],\n",
    "    'Bananas': [0, 1, 2],\n",
    "}\n",
    "expenditures_df = pd.DataFrame(expenditures_data)\n",
    "\n",
    "prices_data = {\n",
    "    'North': {'Apples': 1.0, 'Oranges': 2.0, 'Bananas': 3.0},\n",
    "    'South': {'Apples': 1.2, 'Oranges': 2.2, 'Bananas': 3.2},\n",
    "    'Unknown': {'Apples': 1.05, 'Oranges': 2.1, 'Bananas': 3.1}\n",
    "}\n",
    "prices = pd.DataFrame(prices_data).T\n",
    "\n",
    "price_avgs_data = {\n",
    "    'Apples': [1.05],\n",
    "    'Oranges': [2.1],\n",
    "    'Bananas': [3.1]\n",
    "}\n",
    "fp_sub_avgs = pd.DataFrame(price_avgs_data).T\n",
    "\n",
    "# Test case 1: Test get_col_counts() for Apples\n",
    "food_col = 'Apples'\n",
    "expected_result_1 = np.array([2.0, 2.5, 0.95238])\n",
    "assert np.allclose(get_col_counts(expenditures_df, food_col, prices, fp_sub_avgs),\n",
    "                   expected_result_1, rtol=1e-5), \"Test case 1 failed\"\n",
    "\n",
    "# Test case 2: 'Region' is 'South'\n",
    "food_col = 'Oranges'\n",
    "expected_result_2 = np.array([0.5, 0.90909, 0.0])\n",
    "assert np.allclose(get_col_counts(expenditures_df, food_col, prices, fp_sub_avgs),\n",
    "                   expected_result_2, rtol=1e-5), \"Test case 2 failed\"\n",
    "\n",
    "# Test case 3: 'Region' is 'Unknown'\n",
    "food_col = 'Bananas'\n",
    "expected_result_3 = np.array([0.0, 0.3125, 0.64516])\n",
    "assert np.allclose(get_col_counts(expenditures_df, food_col, prices, fp_sub_avgs),\n",
    "                   expected_result_3, rtol=1e-5), \"Test case 3 failed\"\n",
    "\n",
    "print(\"All test cases passed!\")"
   ]
  },
  {
   "cell_type": "markdown",
   "id": "273c9ab5-11a7-4fdb-b8f8-e8a3c41c5292",
   "metadata": {},
   "source": [
    "### Demand Notebook"
   ]
  },
  {
   "cell_type": "code",
   "execution_count": 7,
   "id": "55061162-d585-4ee4-93e3-38e35ab78914",
   "metadata": {
    "tags": []
   },
   "outputs": [],
   "source": [
    "%run demand.ipynb"
   ]
  },
  {
   "cell_type": "code",
   "execution_count": 21,
   "id": "449c3d9e-2d89-41bf-a73f-b4d209766b3a",
   "metadata": {
    "tags": []
   },
   "outputs": [],
   "source": [
    "### Dummy data will be easier for testing\n",
    "data = {\n",
    "'Apples': [1.0],\n",
    "'Oranges': [2.0],\n",
    "'Bananas': [3.0]\n",
    "}\n",
    "idx = ['Price']\n",
    "p = pd.DataFrame(data, index = idx).T\n",
    "\n",
    "### Test case 1: Test change_price() for Apples\n",
    "expected_result_1 = pd.DataFrame({\n",
    "    'Apples': [0.9],\n",
    "    'Oranges': [2.0],\n",
    "    'Bananas': [3.0]\n",
    "}, index = idx).T\n",
    "assert change_price(0.9, p, 'Apples').equals(expected_result_1), \"Test case 1 failed\"\n",
    "\n",
    "### Test case 2: Test change_price() for Oranges\n",
    "expected_result_2 = pd.DataFrame({\n",
    "    'Apples': [1.0],\n",
    "    'Oranges': [2.5],\n",
    "    'Bananas': [3.0]\n",
    "}, index = idx).T\n",
    "assert change_price(2.5, p, 'Oranges').equals(expected_result_2), \"Test case 2 failed\"\n",
    "\n",
    "### Test case 3: Test change_price() for Bananas\n",
    "expected_result_3 = pd.DataFrame({\n",
    "    'Apples': [1.0],\n",
    "    'Oranges': [2.0],\n",
    "    'Bananas': [2.8]\n",
    "}, index = idx).T\n",
    "assert change_price(2.8, p, 'Bananas').equals(expected_result_3), \"Test case 3 failed\"\n",
    "\n",
    "print(\"All test cases passed!\")"
   ]
  },
  {
   "cell_type": "markdown",
   "id": "181b5cb7-04fd-43f5-abdc-3b1de37fb7ad",
   "metadata": {},
   "source": [
    "### Nutrient System Notebook"
   ]
  },
  {
   "cell_type": "code",
   "execution_count": 10,
   "id": "7c286584-2b62-41ee-923e-806144d3cb77",
   "metadata": {
    "tags": []
   },
   "outputs": [],
   "source": [
    "%run nutrient_system.ipynb"
   ]
  },
  {
   "cell_type": "code",
   "execution_count": 19,
   "id": "bf65f1ce-5c50-4685-8c52-6e71d8875e18",
   "metadata": {
    "tags": []
   },
   "outputs": [],
   "source": [
    "country = 'Uganda'\n",
    "year_range = '2013-14'\n",
    "desired_percentile = 50\n",
    "p, fct, rdi, r = load_in_data(country, year_range)\n",
    "pbar, xhat, xbar, xref, qhat, fct0, c0 = get_pbqs(p, r, desired_percentile)\n",
    "\n",
    "### Test case 1: Check pbar\n",
    "assert  np.allclose(pbar['Beans'], 1862.5, rtol=1e-5), \"Test case 1 failed\"\n",
    "\n",
    "### Test case 2: Check xhat\n",
    "assert np.allclose(xhat.iloc[29:30].values[0], 224.51497556, rtol = 1e-5), \"Test case 2 failed\"\n",
    "\n",
    "### Test case 3: Check xbar\n",
    "assert np.allclose(xbar.iloc[29:30].values[0], 128796.08875, rtol = 1e-5), \"Test case 3 failed\"\n",
    "\n",
    "### Test case 4: Check xref\n",
    "assert np.allclose(xref, 133874.83473, rtol=1e-5), \"Test case 4 failed\"\n",
    "\n",
    "### Test case 5: Check qhat\n",
    "assert np.allclose(qhat.iloc[29:, 29].values[0], 0.22630, rtol = 1e-5), \"Test case 5 failed\"\n",
    "\n",
    "### Test case 6: Check fct0\n",
    "assert np.allclose(fct0.iloc[3:4, 3].values[0], 240, rtol = 1e-5), \"Test case 6 failed\"\n",
    "\n",
    "### Test case 7: Check c0\n",
    "assert np.allclose(c0.iloc[3:4, 29].values[0], 1.126831, rtol = 1e-5), \"Test case 7 failed\"\n",
    "\n",
    "print(\"All test cases passed!\")"
   ]
  }
 ],
 "metadata": {
  "kernelspec": {
   "display_name": "Python 3 (ipykernel)",
   "language": "python",
   "name": "python3"
  },
  "language_info": {
   "codemirror_mode": {
    "name": "ipython",
    "version": 3
   },
   "file_extension": ".py",
   "mimetype": "text/x-python",
   "name": "python",
   "nbconvert_exporter": "python",
   "pygments_lexer": "ipython3",
   "version": "3.11.5"
  }
 },
 "nbformat": 4,
 "nbformat_minor": 5
}
