{
 "cells": [
  {
   "cell_type": "markdown",
   "id": "e0a1736d-269c-4ead-bd04-470506b1678b",
   "metadata": {},
   "source": [
    "# Team Harvey Wiley Cost Expiriment Notebook\n",
    "In this notebook, we explore the relationship between costs, budgets, \\& consumption.\n",
    "\n",
    "**Usage Note - Updating Notebook**:\n",
    "- If you make changes locally to your version of the notebook, you will need to manually update the notebook via the following steps\n",
    "    1. Uncomment the code in the cell below and run it.\n",
    "    2. Restart the notebook's kernel.\n",
    "    3. Refresh the page. <br>\n",
    "    **Warning** - Make sure that the aforementioned code is commented once you successfully updated the notebook."
   ]
  },
  {
   "cell_type": "code",
   "execution_count": 20,
   "id": "642263d6-f964-4ce2-93f3-db9c4be6aba9",
   "metadata": {},
   "outputs": [],
   "source": [
    "### Uncomment this code to manually update the notebook\n",
    "# !git reset --hard origin/main"
   ]
  },
  {
   "cell_type": "code",
   "execution_count": 21,
   "id": "46df1f04-1479-46ba-8234-11ec1bb259c8",
   "metadata": {
    "tags": []
   },
   "outputs": [],
   "source": [
    "import pandas as pd\n",
    "import numpy as np\n",
    "import cfe.regression as rgsn\n",
    "import matplotlib.pyplot as plt"
   ]
  },
  {
   "cell_type": "markdown",
   "id": "cab12787-7d7b-4e8e-9594-297f46192d3f",
   "metadata": {},
   "source": [
    "### Load in Data"
   ]
  },
  {
   "cell_type": "code",
   "execution_count": 23,
   "id": "f8dcb55b-4f5e-4ef0-af6b-b5249c38ff83",
   "metadata": {
    "tags": []
   },
   "outputs": [],
   "source": [
    "%run nutrient_system.ipynb"
   ]
  },
  {
   "cell_type": "markdown",
   "id": "97ce5594-d299-4ec5-8111-07ad9a1b74cc",
   "metadata": {},
   "source": [
    "### Price Change Policy Experiment"
   ]
  },
  {
   "cell_type": "code",
   "execution_count": 26,
   "id": "27983ce2-b83f-445d-98f6-3f021a59f90a",
   "metadata": {
    "tags": []
   },
   "outputs": [],
   "source": [
    "def plot_price_change_experiment(desired_food, desired_percentile, r, p):\n",
    "    pbar, xhat, xbar, xref, qhat, fct0, c0 = get_pbqs(p, r, desired_percentile)\n",
    "    x0 = xbar.quantile(desired_percentile / 100)\n",
    "    \n",
    "    P = np.geomspace(.01,10,50) * pbar[desired_food]\n",
    "\n",
    "    ### Utility of household at desired_percentile, given prices\n",
    "    u0 = r.indirect_utility(x0,pbar)\n",
    "\n",
    "    plt.plot([r.demands(x0, change_price(p0 = p0, p = pbar, j = desired_food))[desired_food] for p0 in P], P)\n",
    "    plt.plot([r.demands(u0, change_price(p0 = p0, p = pbar, j = desired_food),type = \"Hicksian\")[desired_food] for p0 in P], P)\n",
    "    plt.ylabel('Price')\n",
    "    plt.xlabel(desired_food)\n",
    "    plt.legend((\"Marshallian\",\"Hicksian\"))\n",
    "    plt.show();"
   ]
  },
  {
   "cell_type": "markdown",
   "id": "ef64ff32-075e-4b25-b24c-5e96f75f04fa",
   "metadata": {},
   "source": [
    "### Welfare Metrics"
   ]
  },
  {
   "cell_type": "code",
   "execution_count": 28,
   "id": "5270790b-769d-4ffb-b79f-a5a528ad1deb",
   "metadata": {
    "tags": []
   },
   "outputs": [],
   "source": [
    "def compensating_variation(u0, p0, p1):\n",
    "    x0 = r.expenditure(u0, p0)\n",
    "    x1 = r.expenditure(u0, p1)\n",
    "    return x1 - x0\n",
    "\n",
    "def revenue(u0, p0, p1, type = 'Marshallian'):  \n",
    "    dp = p1 - p0 # Change in prices\n",
    "    c = r.demands(u0, p1, type = type)\n",
    "    dp, c = dp.align(c, join = 'inner')\n",
    "    return dp.T @ c\n",
    "\n",
    "\n",
    "def deadweight_loss(u0, p0, p1):\n",
    "    cv = compensating_variation(u0, p0, p1)\n",
    "    return cv - revenue(u0,p0,p1,type='Hicksian')"
   ]
  },
  {
   "cell_type": "markdown",
   "id": "f7121031-de72-47d3-99e8-fb0e220f433a",
   "metadata": {},
   "source": [
    "### Price Changes, Revenue, and Compensating Variation Experiment"
   ]
  },
  {
   "cell_type": "code",
   "execution_count": 57,
   "id": "6ec5571b-2849-4c50-b9e2-6fb0f13b5383",
   "metadata": {
    "tags": []
   },
   "outputs": [],
   "source": [
    "def plot_compensating_variation_experiment(desired_food, r, p, desired_percentile):\n",
    "    pbar, xhat, xbar, xref, qhat, fct0, c0 = get_pbqs(p, r, desired_percentile)\n",
    "    x0 = xbar.quantile(desired_percentile / 100)\n",
    "    \n",
    "    P = np.geomspace(.01,10,50) * pbar[desired_food]\n",
    "    u0 = r.indirect_utility(x0,pbar)\n",
    "    \n",
    "    fig, ax1 = plt.subplots()\n",
    "\n",
    "    ax1.plot(P,[compensating_variation(u0, pbar, change_price(p0 = p0, p = pbar, j = desired_food)) for p0 in P])\n",
    "    ax1.set_xlabel(f\"Price of {desired_food}\")\n",
    "    ax1.set_ylabel(\"Compensating Variation\")\n",
    "\n",
    "    ax1.plot(P,[revenue(u0,pbar,change_price(p0 = p0, p = pbar, j = desired_food),type='Hicksian') for p0 in P],'k')\n",
    "    ax1.legend(('Compensating Variation','Revenue'))\n",
    "    ax1.axhline(0, color = 'red')\n",
    "    ax1.axvline(pbar.loc[desired_food], color = 'red')\n",
    "    plt.show();"
   ]
  },
  {
   "cell_type": "markdown",
   "id": "fda52909-30a7-4201-b2ad-280d8fdf75a3",
   "metadata": {},
   "source": [
    "### Deadweight Loss"
   ]
  },
  {
   "cell_type": "code",
   "execution_count": 66,
   "id": "15c14c51-2104-43b1-a9c4-18ec8d099b5c",
   "metadata": {
    "tags": []
   },
   "outputs": [],
   "source": [
    "def plot_dwl_experiment(desired_food, r, p, desired_percentile):\n",
    "    pbar, xhat, xbar, xref, qhat, fct0, c0 = get_pbqs(p, r, desired_percentile)\n",
    "    x0 = xbar.quantile(desired_percentile / 100)\n",
    "    \n",
    "    P = np.geomspace(.01,10,50) * pbar[desired_food]\n",
    "    u0 = r.indirect_utility(x0,pbar)\n",
    "\n",
    "    fig, ax1 = plt.subplots()\n",
    "\n",
    "    ax1.plot(P,[deadweight_loss(u0, pbar, change_price(p0 = p0, p = pbar, j = desired_food)) for p0 in P])\n",
    "    ax1.set_xlabel(\"Price of %s\" % desired_food)\n",
    "    ax1.set_ylabel(\"Deadweight Loss\")\n",
    "    plt.show();"
   ]
  },
  {
   "cell_type": "markdown",
   "id": "e402c118-2339-4ec4-8c27-afd903ae2d55",
   "metadata": {},
   "source": [
    "### Interactivity Development"
   ]
  },
  {
   "cell_type": "code",
   "execution_count": 34,
   "id": "f59c2d9b-975a-4721-9128-543486ebacb5",
   "metadata": {
    "tags": []
   },
   "outputs": [],
   "source": [
    "def ppc_exp_interactive(r, p, food_choices):\n",
    "    '''\n",
    "    Description\n",
    "    --------------------------------------------------\n",
    "    This is a function that makes \n",
    "    plot_price_change_experiment() interactive.\n",
    "    '''\n",
    "    widget = interactive(plot_price_change_experiment,\n",
    "                         r = widgets.fixed(r),\n",
    "                         p = widgets.fixed(p),\n",
    "                         desired_food = widgets.Dropdown(options = food_choices, \n",
    "                                                     description = \"Desired Food\"),\n",
    "                                                 desired_percentile = widgets.IntSlider(value = 50,\n",
    "                                                             min = 1,\n",
    "                                                             max = 99,\n",
    "                                                             step = 1,\n",
    "                                                             description = 'Percentile:',\n",
    "                                                             continuous_update = True\n",
    "                                                            )\n",
    "                        )\n",
    "    display(widget)"
   ]
  },
  {
   "cell_type": "code",
   "execution_count": 53,
   "id": "3751e2de-4db4-4692-ba31-39f87a0c0280",
   "metadata": {
    "tags": []
   },
   "outputs": [],
   "source": [
    "def pcr_exp_interactive(r, p, food_choices):\n",
    "    '''\n",
    "    Description\n",
    "    --------------------------------------------------\n",
    "    This is a function that makes \n",
    "    plot_compensating_variation_experiment() \n",
    "    interactive.\n",
    "    '''\n",
    "    widget = interactive(plot_compensating_variation_experiment,\n",
    "                         r = widgets.fixed(r),\n",
    "                         p = widgets.fixed(p),\n",
    "                         desired_food = widgets.Dropdown(options = food_choices, \n",
    "                                                     description = \"Desired Food\"),\n",
    "                                                 desired_percentile = widgets.IntSlider(value = 50,\n",
    "                                                             min = 1,\n",
    "                                                             max = 99,\n",
    "                                                             step = 1,\n",
    "                                                             description = 'Percentile:',\n",
    "                                                             continuous_update = True\n",
    "                                                            )\n",
    "                        )\n",
    "    display(widget)"
   ]
  },
  {
   "cell_type": "code",
   "execution_count": null,
   "id": "512c51e7-db0e-4bfe-bc86-c4906086942d",
   "metadata": {},
   "outputs": [],
   "source": [
    "def pdwl_exp_interactive(r, p, food_choices):\n",
    "    '''\n",
    "    Description\n",
    "    --------------------------------------------------\n",
    "    This is a function that makes \n",
    "    plot_dwl_experiment() interactive.\n",
    "    '''\n",
    "    widget = interactive(plot_dwl_experiment,\n",
    "                         r = widgets.fixed(r),\n",
    "                         p = widgets.fixed(p),\n",
    "                         desired_food = widgets.Dropdown(options = food_choices, \n",
    "                                                     description = \"Desired Food\"),\n",
    "                                                 desired_percentile = widgets.IntSlider(value = 50,\n",
    "                                                             min = 1,\n",
    "                                                             max = 99,\n",
    "                                                             step = 1,\n",
    "                                                             description = 'Percentile:',\n",
    "                                                             continuous_update = True\n",
    "                                                            )\n",
    "                        )\n",
    "    display(widget)"
   ]
  }
 ],
 "metadata": {
  "kernelspec": {
   "display_name": "Python 3 (ipykernel)",
   "language": "python",
   "name": "python3"
  },
  "language_info": {
   "codemirror_mode": {
    "name": "ipython",
    "version": 3
   },
   "file_extension": ".py",
   "mimetype": "text/x-python",
   "name": "python",
   "nbconvert_exporter": "python",
   "pygments_lexer": "ipython3",
   "version": "3.11.5"
  }
 },
 "nbformat": 4,
 "nbformat_minor": 5
}
