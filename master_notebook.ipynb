{
 "cells": [
  {
   "cell_type": "markdown",
   "id": "4ac9c511-ceb7-4a12-b2a0-414ac01e4304",
   "metadata": {
    "tags": []
   },
   "source": [
    "# Team Harvey Wiley Master Notebook\n",
    "In this notebook, we compile all of the finished products of code for this project.\n",
    "\n",
    "**Usage Note - Updating Notebook**:\n",
    "- If you make changes locally to your version of the notebook, you will need to manually update the notebook via the following steps\n",
    "    1. Uncomment the code in the cell below and run it.\n",
    "    2. Restart the notebook's kernel.\n",
    "    3. Refresh the page. <br>\n",
    "    **Warning** - Make sure that the aforementioned code is commented once you successfully updated the notebook."
   ]
  },
  {
   "cell_type": "code",
   "execution_count": 138,
   "id": "7597ef4f-0c8d-480d-a4f9-d6f54e3032c1",
   "metadata": {
    "tags": []
   },
   "outputs": [],
   "source": [
    "### Uncomment this code to manually update the notebook\n",
    "# !git reset --hard origin/main"
   ]
  },
  {
   "cell_type": "markdown",
   "id": "0033e385-2dcc-4e30-bde9-f7f45c7e8eef",
   "metadata": {},
   "source": [
    "## Food Demand"
   ]
  },
  {
   "cell_type": "markdown",
   "id": "bcada0c8-bc25-4d13-bfd9-b4faa1103f8f",
   "metadata": {},
   "source": [
    "| **Country** | Valid Years |  \n",
    "|-----------|----------|\n",
    "| **Uganda** | 2013-14, 2015-16, 2018-19, 2019-20|\n",
    "\n",
    "In the code below, replace the elipses `...` with a valid `year_range`. <br>\n",
    "**Note:** The `year_range` must be a string."
   ]
  },
  {
   "cell_type": "code",
   "execution_count": 102,
   "id": "cb0c6484-6f2b-479e-8deb-8042120c1235",
   "metadata": {
    "tags": []
   },
   "outputs": [],
   "source": [
    "### Uncomment to install these packages if need be\n",
    "# !pip install CFEDemands\n",
    "# !pip install fooddatacentral\n",
    "# !pip install pint"
   ]
  },
  {
   "cell_type": "code",
   "execution_count": 104,
   "id": "1b664455-c46b-41d7-b70d-1bf48419a9b7",
   "metadata": {
    "tags": []
   },
   "outputs": [],
   "source": [
    "%run demand.ipynb"
   ]
  },
  {
   "cell_type": "code",
   "execution_count": 136,
   "id": "e7e73547-d68c-40b1-baae-0aa88dda4864",
   "metadata": {
    "tags": []
   },
   "outputs": [],
   "source": [
    "country = 'Uganda'\n",
    "year_range = ...\n",
    "result, p = estimate_demand_wrapper(country, year_range)"
   ]
  },
  {
   "cell_type": "code",
   "execution_count": 134,
   "id": "0ab4af2e-e60c-4d27-89e1-2bb078d94c43",
   "metadata": {
    "tags": []
   },
   "outputs": [],
   "source": [
    "plot_engel_curve_interactive(result, p)"
   ]
  },
  {
   "cell_type": "markdown",
   "id": "05d4003f-c8e1-49f7-b7f6-7a9b1f40ba4d",
   "metadata": {},
   "source": [
    "## Conterfactual Experiement: Modifying Food Prices"
   ]
  },
  {
   "cell_type": "code",
   "execution_count": 132,
   "id": "6328cb4d-1730-4fb1-9e4e-24a785438571",
   "metadata": {
    "tags": []
   },
   "outputs": [],
   "source": [
    "plot_demands_interactive(result, p)"
   ]
  },
  {
   "cell_type": "markdown",
   "id": "5e7715c1-1e88-42c9-b0df-8d0686364d2b",
   "metadata": {},
   "source": [
    "## Nutritional Adequacy"
   ]
  },
  {
   "cell_type": "markdown",
   "id": "02a8bfe2-794c-4640-8e6e-c4a449884980",
   "metadata": {
    "tags": []
   },
   "source": [
    "| **Country** | Valid Years |  \n",
    "|-----------|----------|\n",
    "| **Uganda** | 2013-14, 2015-16, 2018-19, 2019-20|"
   ]
  },
  {
   "cell_type": "markdown",
   "id": "3e0ba3b1-8ae4-42af-94e9-4992fe956408",
   "metadata": {},
   "source": [
    "### Understanding Nutritional Adequacy\n",
    "We choose take adopted a nuanced approach to examing Nutritonal Adequacy in our project. The best way to explain our approach is through an example. Suppose we have the following nutritional requirements and consumption data for some arbitrary household.\n",
    "\n",
    "| **Nutrient** | A | B | C | D | Adequacy Share\n",
    "|:-----------:|:----------:|:-----------:|:----------:|:-----------:|:-----------:|\n",
    "| **Intake** | 105 kg |53 kg|75 kg|29 kg||\n",
    "| **Requirement** | 100 kg |100 kg|100 kg|100 kg| |\n",
    "| **100% Adequacy** | $\\times$ | | | | 0.25 |\n",
    "| **75% Adequacy** | $\\times$ | | $\\times$ | | 0.50 |\n",
    "| **50% Adequacy** | $\\times$ | $\\times$ | $\\times$ | | 0.75 |\n",
    "\n",
    "As we see in the able above, Adequacy Share at some Adequacy Level $\\alpha$ is the proportion of nutrients for which a housholds total intake of the nutrient is greater than or equal to $\\alpha$. <br>\n",
    "$$\\text{Adequacy Share}_{h} = \\frac{\\sum_{i = 1}^{n} \\textbf{1}(\\frac{\\textit{Nutrient i Intake}_{h}}{\\textit{Nutrient i Requirement}_{h}} \\ge \\alpha)}{n}; \\hspace{0.1cm} \\forall \\text{ Households } h$$"
   ]
  },
  {
   "cell_type": "markdown",
   "id": "1bdf5f2a-e261-4ea8-9852-64e64ca27271",
   "metadata": {},
   "source": [
    "**Usage Note - Seaborn Error**:\n",
    "- If you are getting the following error: `No such keys(s): ‘mode.use_inf_as_null`:\n",
    "    1. Uncomment the code in the cell below and run it.\n",
    "    2. Restart the notebook's kernel.\n",
    "    3. Refresh the page. <br>\n",
    "    **Warning** - Make sure that the aforementioned code is commented once you successfully updated the notebook."
   ]
  },
  {
   "cell_type": "code",
   "execution_count": 114,
   "id": "312b60ca-f619-46d0-90af-56f9fbb88dbb",
   "metadata": {
    "tags": []
   },
   "outputs": [],
   "source": [
    "### Uncomment this code\n",
    "# ! pip install --upgrade seaborn"
   ]
  },
  {
   "cell_type": "code",
   "execution_count": 115,
   "id": "bae12d43-aa59-4d2b-bd6c-d8a9c89827bc",
   "metadata": {
    "tags": []
   },
   "outputs": [],
   "source": [
    "%run nutritional_adequacy.ipynb"
   ]
  },
  {
   "cell_type": "code",
   "execution_count": 130,
   "id": "8ae3fb6d-7b0e-4354-a29b-20b1165eedda",
   "metadata": {
    "tags": []
   },
   "outputs": [],
   "source": [
    "country = 'Uganda'\n",
    "year_range = ...\n",
    "nutrient_cols, hh_diet_adequacy = run_nutritional_adequacy_analysis(country, year_range)"
   ]
  },
  {
   "cell_type": "markdown",
   "id": "8780daa4-150b-434e-a961-59010f9a945c",
   "metadata": {},
   "source": [
    "## Exploring Nutrient Adequacy Distributions\n",
    "In the cell below, use the interactive widget to see the Nutrient Adequacy Distributions for different foods."
   ]
  },
  {
   "cell_type": "code",
   "execution_count": 126,
   "id": "164bd75a-9b1c-46ad-a3aa-aa547c58e277",
   "metadata": {
    "tags": []
   },
   "outputs": [],
   "source": [
    "plot_nutrient_distributions_interactive(nutrient_cols, hh_diet_adequacy)"
   ]
  }
 ],
 "metadata": {
  "kernelspec": {
   "display_name": "Python 3 (ipykernel)",
   "language": "python",
   "name": "python3"
  },
  "language_info": {
   "codemirror_mode": {
    "name": "ipython",
    "version": 3
   },
   "file_extension": ".py",
   "mimetype": "text/x-python",
   "name": "python",
   "nbconvert_exporter": "python",
   "pygments_lexer": "ipython3",
   "version": "3.11.5"
  }
 },
 "nbformat": 4,
 "nbformat_minor": 5
}
