{
 "cells": [
  {
   "cell_type": "markdown",
   "id": "ff8c9577-a0cc-4b20-8ddf-40a45a053d52",
   "metadata": {
    "tags": []
   },
   "source": [
    "# Team Harvey Wiley Nutrient System Notebook\n",
    "In this notebook, we explore how demands for various quantities can be expressed as functions of prices, budgets, and household characteristics. Then, illustrate how these quantities can be translated into nutritional components.\n",
    "\n",
    "**Usage Note - Updating Notebook**:\n",
    "- If you make changes locally to your version of the notebook, you will need to manually update the notebook via the following steps\n",
    "    1. Uncomment the code in the cell below and run it.\n",
    "    2. Restart the notebook's kernel.\n",
    "    3. Refresh the page. <br>\n",
    "    **Warning** - Make sure that the aforementioned code is commented once you successfully updated the notebook."
   ]
  },
  {
   "cell_type": "code",
   "execution_count": 6,
   "id": "e01c5cfc-54d1-424c-8c21-a4deb163dde8",
   "metadata": {
    "tags": []
   },
   "outputs": [],
   "source": [
    "import pandas as pd\n",
    "import numpy as np\n",
    "import cfe.regression as rgsn\n",
    "import matplotlib.pyplot as plt"
   ]
  },
  {
   "cell_type": "code",
   "execution_count": 3,
   "id": "4c3a5d84-9830-43f4-8961-e4ef1adb4b53",
   "metadata": {
    "tags": []
   },
   "outputs": [],
   "source": [
    "%run demand.ipynb"
   ]
  },
  {
   "cell_type": "markdown",
   "id": "95717653-165b-4511-b865-2772d7150ab3",
   "metadata": {},
   "source": [
    "### Load In Data"
   ]
  },
  {
   "cell_type": "code",
   "execution_count": 30,
   "id": "51e90dca-f7e0-4119-aa5e-d4ba73040fa9",
   "metadata": {
    "tags": []
   },
   "outputs": [],
   "source": [
    "def load_in_data(country, year_range):\n",
    "    country = country.lower()\n",
    "    p = pd.read_csv(f'./data/{country}/food_prices.csv')\n",
    "\n",
    "    p = p.set_index(['t','m'])\n",
    "    p.columns.name = 'j'\n",
    "\n",
    "    p = p.apply(lambda x: pd.to_numeric(x,errors='coerce'))\n",
    "    p = p.replace(0,np.nan)\n",
    "\n",
    "    fct = pd.read_csv(f'./data/{country}/fct.csv')\n",
    "\n",
    "    fct = fct.set_index('j')\n",
    "    fct.columns.name = 'n'\n",
    "\n",
    "    fct = fct.apply(lambda x: pd.to_numeric(x,errors='coerce'))\n",
    "\n",
    "    rdi = pd.read_csv(f'./data/{country}/rdi.csv')\n",
    "    rdi = rdi.set_index('n')\n",
    "    rdi.columns.name = 'k'\n",
    "\n",
    "    r = rgsn.read_pickle(f\"./estimates/{country}/{year_range.replace('-', '_')}.rgsn\")\n",
    "    return p, fct, rdi, r"
   ]
  },
  {
   "cell_type": "code",
   "execution_count": 33,
   "id": "cc05d1bb-d227-4ea3-bf9d-4d36b66b70c5",
   "metadata": {
    "tags": []
   },
   "outputs": [],
   "source": [
    "def get_pbqs(p, r, desired_percentile):\n",
    "    '''\n",
    "    Description\n",
    "    --------------------------------------------------\n",
    "    This function gets price references at a desired \n",
    "    percentile, budgets & food quantities.\n",
    "    '''\n",
    "    pbar = p.xs(year_range, level = 't').mean()\n",
    "    pbar = pbar[r.beta.index]\n",
    "\n",
    "    xhat = r.predicted_expenditures()\n",
    "\n",
    "    xbar = xhat.groupby(['i','t','m']).sum()\n",
    "\n",
    "    xref = xbar.quantile(desired_percentile / 100)\n",
    "\n",
    "    qhat = (xhat.unstack('j')/pbar).dropna(how='all')\n",
    "\n",
    "    qhat = qhat.loc[:, qhat.count() > 0]\n",
    "    \n",
    "    fct0, c0 = fct.align(qhat.T, axis = 0,join = 'inner')\n",
    "    N = fct0.T @ c0\n",
    "    \n",
    "    return pbar, xhat, xbar, xref, qhat, fct0, c0"
   ]
  },
  {
   "cell_type": "code",
   "execution_count": 74,
   "id": "d8a39560-ec76-44c2-8bc7-8049a3f225a7",
   "metadata": {
    "tags": []
   },
   "outputs": [],
   "source": [
    "def nutrient_demand(x, p):\n",
    "    c = r.demands(x,p)\n",
    "    fct0,c0 = fct.align(c,axis=0,join='inner')\n",
    "    N = fct0.T @ c0\n",
    "\n",
    "    N = N.loc[~N.index.duplicated()]\n",
    "    \n",
    "    return N"
   ]
  },
  {
   "cell_type": "code",
   "execution_count": 75,
   "id": "2b3a9cf3-8d76-431e-af02-004b1982be71",
   "metadata": {
    "tags": []
   },
   "outputs": [],
   "source": [
    "def visualize_b_v_ni(xref, pbar, desired_nutrients, desired_percentile):\n",
    "    '''\n",
    "    Description\n",
    "    --------------------------------------------------\n",
    "    This function peforms the visualization for our\n",
    "    Budget vs Nutrient Intake graphs.\n",
    "    '''\n",
    "    X = np.linspace(xref / 5, xref * 5, 50)\n",
    "\n",
    "    df = pd.concat({myx:np.log(nutrient_demand(myx, pbar))[desired_nutrients] for myx in X},axis=1).T\n",
    "    ax = df.plot()\n",
    "\n",
    "    ax.set_xlabel('Log Budget')\n",
    "    ax.set_ylabel('Log Nutrient')\n",
    "    ax.set_title(f'Budget vs Nutrient Intake ({desired_percentile}% Percentile)')\n",
    "    plt.legend(title = 'Nutrient', loc= 'center left', bbox_to_anchor=(1, 0.5))\n",
    "    plt.show();"
   ]
  },
  {
   "cell_type": "code",
   "execution_count": 97,
   "id": "be19a757-7ce2-4388-93ed-3751349b1393",
   "metadata": {
    "tags": []
   },
   "outputs": [],
   "source": [
    "def visualize_p_v_ni(xref, pbar, desired_food):\n",
    "    '''\n",
    "    Description\n",
    "    --------------------------------------------------\n",
    "    This function peforms the visualization for our\n",
    "    Price vs Nutrient Intake graph for a desired food.\n",
    "    '''\n",
    "    scale = np.geomspace(.01,10,50)\n",
    "\n",
    "    ndf = pd.DataFrame({s:np.log(nutrient_demand(xref / 2, change_price(p0 = pbar[desired_food] * s,\n",
    "                                                                        p = pbar,\n",
    "                                                                        j = desired_food)))[desired_nutrients] for s in scale}).T\n",
    "\n",
    "\n",
    "    ax = ndf.plot()\n",
    "\n",
    "    ax.set_xlabel('Log Price')\n",
    "    ax.set_ylabel('Log Nutrient')\n",
    "    ax.set_title(f'Price vs Nutrient Intake ({desired_food})')\n",
    "    plt.legend(title = 'Nutrient', loc= 'center left', bbox_to_anchor=(1, 0.5))\n",
    "    plt.show();"
   ]
  },
  {
   "cell_type": "markdown",
   "id": "f591edf4-839b-436f-8bbe-b66d4ce02207",
   "metadata": {},
   "source": [
    "## Interactivity Development"
   ]
  },
  {
   "cell_type": "code",
   "execution_count": 102,
   "id": "113f625d-53f8-4fe2-81c3-7eab53ba9bed",
   "metadata": {
    "tags": []
   },
   "outputs": [],
   "source": [
    "def visualize_b_v_ni_wrapper(p, r, desired_percentile, desired_nutrients):\n",
    "    pbar, xhat, xbar, xref, qhat, fct0, c0 = get_pbqs(p, r, desired_percentile)\n",
    "    visualize_b_v_ni(xref, pbar, desired_nutrients, desired_percentile)\n",
    "    return pbar, xhat, xbar, xref, qhat, fct0, c0"
   ]
  },
  {
   "cell_type": "code",
   "execution_count": 116,
   "id": "09ed4d2d-6147-4cc7-a920-6f26dbd227d6",
   "metadata": {
    "tags": []
   },
   "outputs": [],
   "source": [
    "def visualize_p_v_ni_interactive(xref, pbar, food_choices):\n",
    "    '''\n",
    "    Description\n",
    "    --------------------------------------------------\n",
    "    This is a function that makes \n",
    "    visualize_p_v_ni() interactive.\n",
    "\n",
    "    Inputs\n",
    "    --------------------------------------------------\n",
    "    + Fill in\n",
    "    \n",
    "    Outputs\n",
    "    --------------------------------------------------\n",
    "    + Interactive widget is displayed\n",
    "    '''\n",
    "    widget = interactive(visualize_p_v_ni,\n",
    "                         xref = widgets.fixed(xref),\n",
    "                         pbar = widgets.fixed(pbar),\n",
    "                         desired_food = widgets.Dropdown(options = food_choices, \n",
    "                                                     description = \"Desired Food\"))\n",
    "    display(widget)"
   ]
  }
 ],
 "metadata": {
  "kernelspec": {
   "display_name": "Python 3 (ipykernel)",
   "language": "python",
   "name": "python3"
  },
  "language_info": {
   "codemirror_mode": {
    "name": "ipython",
    "version": 3
   },
   "file_extension": ".py",
   "mimetype": "text/x-python",
   "name": "python",
   "nbconvert_exporter": "python",
   "pygments_lexer": "ipython3",
   "version": "3.11.5"
  }
 },
 "nbformat": 4,
 "nbformat_minor": 5
}
