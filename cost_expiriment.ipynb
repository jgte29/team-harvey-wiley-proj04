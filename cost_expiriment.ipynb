{
 "cells": [
  {
   "cell_type": "markdown",
   "id": "e0a1736d-269c-4ead-bd04-470506b1678b",
   "metadata": {},
   "source": [
    "# Team Harvey Wiley Cost Expiriment Notebook\n",
    "In this notebook, we explore the relationship between costs, budgets, \\& consumption.\n",
    "\n",
    "**Usage Note - Updating Notebook**:\n",
    "- If you make changes locally to your version of the notebook, you will need to manually update the notebook via the following steps\n",
    "    1. Uncomment the code in the cell below and run it.\n",
    "    2. Restart the notebook's kernel.\n",
    "    3. Refresh the page. <br>\n",
    "    **Warning** - Make sure that the aforementioned code is commented once you successfully updated the notebook."
   ]
  },
  {
   "cell_type": "code",
   "execution_count": 14,
   "id": "642263d6-f964-4ce2-93f3-db9c4be6aba9",
   "metadata": {},
   "outputs": [],
   "source": [
    "### Uncomment this code to manually update the notebook\n",
    "# !git reset --hard origin/main"
   ]
  },
  {
   "cell_type": "code",
   "execution_count": 23,
   "id": "46df1f04-1479-46ba-8234-11ec1bb259c8",
   "metadata": {
    "tags": []
   },
   "outputs": [],
   "source": [
    "import pandas as pd\n",
    "import numpy as np\n",
    "import cfe.regression as rgsn\n",
    "import matplotlib.pyplot as plt"
   ]
  },
  {
   "cell_type": "markdown",
   "id": "cab12787-7d7b-4e8e-9594-297f46192d3f",
   "metadata": {},
   "source": [
    "### Load in Data"
   ]
  },
  {
   "cell_type": "code",
   "execution_count": 34,
   "id": "f8dcb55b-4f5e-4ef0-af6b-b5249c38ff83",
   "metadata": {
    "tags": []
   },
   "outputs": [],
   "source": [
    "%run nutrient_system.ipynb"
   ]
  },
  {
   "cell_type": "code",
   "execution_count": 43,
   "id": "f3b4fca9-6469-41ad-80d7-d4119f3c5540",
   "metadata": {
    "tags": []
   },
   "outputs": [],
   "source": [
    "country = 'Uganda'\n",
    "year_range = '2013-14'\n",
    "desired_percentile = 50\n",
    "p, fct, rdi, r = load_in_data(country, year_range)\n",
    "pbar, xhat, xbar, xref, qhat, fct0, c0 = get_pbqs(p, r, desired_percentile)"
   ]
  },
  {
   "cell_type": "markdown",
   "id": "97ce5594-d299-4ec5-8111-07ad9a1b74cc",
   "metadata": {},
   "source": [
    "### Price Change Policy Experiment"
   ]
  },
  {
   "cell_type": "markdown",
   "id": "ffd266ce-0463-4295-88bd-f4632a767a41",
   "metadata": {},
   "source": []
  },
  {
   "cell_type": "markdown",
   "id": "ef64ff32-075e-4b25-b24c-5e96f75f04fa",
   "metadata": {},
   "source": []
  }
 ],
 "metadata": {
  "kernelspec": {
   "display_name": "Python 3 (ipykernel)",
   "language": "python",
   "name": "python3"
  },
  "language_info": {
   "codemirror_mode": {
    "name": "ipython",
    "version": 3
   },
   "file_extension": ".py",
   "mimetype": "text/x-python",
   "name": "python",
   "nbconvert_exporter": "python",
   "pygments_lexer": "ipython3",
   "version": "3.11.5"
  }
 },
 "nbformat": 4,
 "nbformat_minor": 5
}
